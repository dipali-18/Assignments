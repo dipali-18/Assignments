{
 "cells": [
  {
   "cell_type": "markdown",
   "id": "a4dde701",
   "metadata": {},
   "source": [
    "1. What does an empty dictionary's code look like?\n",
    "2. What is the value of a dictionary value with the key 'foo' and the value 42?\n",
    "3. What is the most significant distinction between a dictionary and a list?\n",
    "4. What happens if you try to access spam['foo'] if spam is {'bar': 100}?\n",
    "5. If a dictionary is stored in spam, what is the difference between the expressions 'cat' in spam and 'cat' in spam.keys()?\n",
    "6. If a dictionary is stored in spam, what is the difference between the expressions 'cat' in spam and 'cat' in spam.values()?\n",
    "7. What is a shortcut for the following code?\n",
    "if 'color' not in spam:\n",
    "spam['color'] = 'black'\n",
    "\n",
    "8. How do you \"pretty print\" dictionary values using which module and function?\n"
   ]
  },
  {
   "cell_type": "markdown",
   "id": "7da34d13",
   "metadata": {},
   "source": [
    "    1. What does an empty dictionary's code look like"
   ]
  },
  {
   "cell_type": "code",
   "execution_count": 1,
   "id": "fcd7ca3e",
   "metadata": {},
   "outputs": [
    {
     "name": "stdout",
     "output_type": "stream",
     "text": [
      "{}\n"
     ]
    }
   ],
   "source": [
    "dict1 = {}\n",
    "print(dict1)"
   ]
  },
  {
   "cell_type": "markdown",
   "id": "614cadfd",
   "metadata": {},
   "source": [
    "2. What is the value of a dictionary value with the key 'foo' and the value 42?"
   ]
  },
  {
   "cell_type": "code",
   "execution_count": 2,
   "id": "a05eb62b",
   "metadata": {},
   "outputs": [
    {
     "name": "stdout",
     "output_type": "stream",
     "text": [
      "{'foo': 42}\n"
     ]
    }
   ],
   "source": [
    "dict2 = {'foo':42}\n",
    "print(dict2)"
   ]
  },
  {
   "cell_type": "markdown",
   "id": "45006a3c",
   "metadata": {},
   "source": [
    "3. What is the most significant distinction between a dictionary and a list?\n",
    "Ans-- Data Storage:\n",
    "\n",
    "Dictionary: A dictionary stores data in key-value pairs. Each key is unique and maps to a specific value. Keys are used to access their corresponding values quickly.\n",
    "List: A list stores an ordered collection of items, where each item has an index starting from 0. The items in a list are ordered and accessed based on their positions.\n",
    "\n",
    "Uniqueness:\n",
    "\n",
    "Dictionary: Dictionary keys must be unique within the dictionary. Each key maps to a single value.\n",
    "List: List items do not have to be unique; the same value can appear at different positions in the list."
   ]
  },
  {
   "cell_type": "markdown",
   "id": "2dbc9fe7",
   "metadata": {},
   "source": [
    "4. What happens if you try to access spam['foo'] if spam is {'bar': 100}?-- it wll show error as 'foo' key is not metnioned in dictionary"
   ]
  },
  {
   "cell_type": "code",
   "execution_count": 3,
   "id": "abc5fcd2",
   "metadata": {},
   "outputs": [
    {
     "ename": "TypeError",
     "evalue": "'set' object is not subscriptable",
     "output_type": "error",
     "traceback": [
      "\u001b[1;31m---------------------------------------------------------------------------\u001b[0m",
      "\u001b[1;31mTypeError\u001b[0m                                 Traceback (most recent call last)",
      "\u001b[1;32m~\\AppData\\Local\\Temp\\ipykernel_21000\\213791754.py\u001b[0m in \u001b[0;36m<module>\u001b[1;34m\u001b[0m\n\u001b[0;32m      1\u001b[0m \u001b[0mspam\u001b[0m \u001b[1;33m=\u001b[0m \u001b[1;33m{\u001b[0m\u001b[1;34m'bar: 100'\u001b[0m\u001b[1;33m}\u001b[0m\u001b[1;33m\u001b[0m\u001b[1;33m\u001b[0m\u001b[0m\n\u001b[1;32m----> 2\u001b[1;33m \u001b[0mprint\u001b[0m\u001b[1;33m(\u001b[0m\u001b[0mspam\u001b[0m\u001b[1;33m[\u001b[0m\u001b[1;34m'foo'\u001b[0m\u001b[1;33m]\u001b[0m\u001b[1;33m)\u001b[0m\u001b[1;33m\u001b[0m\u001b[1;33m\u001b[0m\u001b[0m\n\u001b[0m",
      "\u001b[1;31mTypeError\u001b[0m: 'set' object is not subscriptable"
     ]
    }
   ],
   "source": [
    "spam = {'bar: 100'}\n",
    "print(spam['foo'])"
   ]
  },
  {
   "cell_type": "code",
   "execution_count": 4,
   "id": "dc6c26a5",
   "metadata": {},
   "outputs": [
    {
     "ename": "TypeError",
     "evalue": "'set' object is not subscriptable",
     "output_type": "error",
     "traceback": [
      "\u001b[1;31m---------------------------------------------------------------------------\u001b[0m",
      "\u001b[1;31mTypeError\u001b[0m                                 Traceback (most recent call last)",
      "\u001b[1;32m~\\AppData\\Local\\Temp\\ipykernel_21000\\1317236139.py\u001b[0m in \u001b[0;36m<module>\u001b[1;34m\u001b[0m\n\u001b[1;32m----> 1\u001b[1;33m \u001b[0mvalue\u001b[0m \u001b[1;33m=\u001b[0m \u001b[0mspam\u001b[0m\u001b[1;33m[\u001b[0m\u001b[1;34m'foo'\u001b[0m\u001b[1;33m]\u001b[0m\u001b[1;33m\u001b[0m\u001b[1;33m\u001b[0m\u001b[0m\n\u001b[0m",
      "\u001b[1;31mTypeError\u001b[0m: 'set' object is not subscriptable"
     ]
    }
   ],
   "source": [
    "value = spam['foo'] "
   ]
  },
  {
   "cell_type": "markdown",
   "id": "502aad21",
   "metadata": {},
   "source": [
    "5. If a dictionary is stored in spam, what is the difference between the expressions 'cat' in spam and 'cat' in spam.keys()?\n",
    "Ans-- both args, work in same way. spam is the dictionary, cat is keyword, so it will check 'cat keyword present or not. but in 2nd argument we are askig about  key 'cat'. So it will show whether cat is prestent in spam dict or not"
   ]
  },
  {
   "cell_type": "markdown",
   "id": "e00c1f43",
   "metadata": {},
   "source": [
    "If a dictionary is stored in spam, what is the difference between the expressions 'cat' in spam and 'cat' in spam.values()?\n",
    "\n",
    "--if cat is the key and it is available in spam dictionary, itis true, else it is false. \n",
    "-- in 2nd args, we are asking value of cat provided if it is key then it will print value of cat, else if cat itself is the value then it will put false"
   ]
  },
  {
   "cell_type": "code",
   "execution_count": 1,
   "id": "edee8e2a",
   "metadata": {},
   "outputs": [
    {
     "name": "stdout",
     "output_type": "stream",
     "text": [
      "False\n",
      "True\n"
     ]
    }
   ],
   "source": [
    "spam = {'a': 'apple', 'b': 'banana', 'c': 'cat'}\n",
    "\n",
    "# Checking for presence of 'cat' in keys\n",
    "print('cat' in spam)  # Output: False\n",
    "\n",
    "# Checking for presence of 'cat' in values\n",
    "print('cat' in spam.values())  # Output: True"
   ]
  },
  {
   "cell_type": "markdown",
   "id": "53454354",
   "metadata": {},
   "source": [
    "7. What is a shortcut for the following code?\n",
    "if 'color' not in spam:\n",
    "spam['color'] = 'black'"
   ]
  },
  {
   "cell_type": "code",
   "execution_count": 4,
   "id": "5769e419",
   "metadata": {},
   "outputs": [
    {
     "ename": "SyntaxError",
     "evalue": "invalid syntax (2895012940.py, line 2)",
     "output_type": "error",
     "traceback": [
      "\u001b[1;36m  File \u001b[1;32m\"C:\\Users\\Dipali\\AppData\\Local\\Temp\\ipykernel_21756\\2895012940.py\"\u001b[1;36m, line \u001b[1;32m2\u001b[0m\n\u001b[1;33m    spam.set_default(4 : 'black')\u001b[0m\n\u001b[1;37m                       ^\u001b[0m\n\u001b[1;31mSyntaxError\u001b[0m\u001b[1;31m:\u001b[0m invalid syntax\n"
     ]
    }
   ],
   "source": [
    "spam = {1: 'blue', 2: 'pink', 3 :'yellow'}\n",
    "spam.set_default(4 : 'black')\n",
    "print(spam)  #don't know how to solve"
   ]
  },
  {
   "cell_type": "markdown",
   "id": "c55ecc69",
   "metadata": {},
   "source": [
    "8. How do you \"pretty print\" dictionary values using which module and function? (copied ans)\n",
    "Ans-- In Python, you can use the json module to pretty print dictionary values. The json module provides a function called json.dumps() (short for \"dump string\") with an argument indent that you can use to specify the number of spaces to use for indentation. This creates a nicely formatted, human-readable string representation of the dictionary.\n",
    "\n",
    "Here's an example of how you can use the json module to pretty print a dictionary:-- so module is json and function is json.dumps()"
   ]
  },
  {
   "cell_type": "code",
   "execution_count": 1,
   "id": "55127a4b",
   "metadata": {},
   "outputs": [
    {
     "name": "stdout",
     "output_type": "stream",
     "text": [
      "{\n",
      "    \"name\": \"John\",\n",
      "    \"age\": 30,\n",
      "    \"city\": \"New York\"\n",
      "}\n"
     ]
    }
   ],
   "source": [
    "import json\n",
    "\n",
    "# Example dictionary\n",
    "data = {\n",
    "    \"name\": \"John\",\n",
    "    \"age\": 30,\n",
    "    \"city\": \"New York\"\n",
    "}\n",
    "\n",
    "# Convert the dictionary to a nicely formatted JSON string\n",
    "pretty_json = json.dumps(data, indent=4)\n",
    "\n",
    "# Print the pretty JSON string\n",
    "print(pretty_json)"
   ]
  },
  {
   "cell_type": "markdown",
   "id": "8aa96ac4",
   "metadata": {},
   "source": [
    "In this example, the indent parameter is set to 4, which means each level of nesting will be indented by 4 spaces. You can adjust the value of indent to control the amount of indentation you prefer in the output.\n",
    "\n",
    "Remember to import the json module at the beginning of your script to use its functionality."
   ]
  },
  {
   "cell_type": "markdown",
   "id": "ea780d9c",
   "metadata": {},
   "source": [
    "9. What is pretty print? (for my own reference)\n",
    "Ans-- Prettyprint is the process of converting and presenting source code or other objects in a legible and attractive way. A prettyprinter takes blocks of code and prints them in an aesthetically pleasing fashion, presenting the characters with line breaks and indentations to make the code comprehensible."
   ]
  },
  {
   "cell_type": "code",
   "execution_count": null,
   "id": "adb6009d",
   "metadata": {},
   "outputs": [],
   "source": []
  }
 ],
 "metadata": {
  "kernelspec": {
   "display_name": "Python 3 (ipykernel)",
   "language": "python",
   "name": "python3"
  },
  "language_info": {
   "codemirror_mode": {
    "name": "ipython",
    "version": 3
   },
   "file_extension": ".py",
   "mimetype": "text/x-python",
   "name": "python",
   "nbconvert_exporter": "python",
   "pygments_lexer": "ipython3",
   "version": "3.9.13"
  }
 },
 "nbformat": 4,
 "nbformat_minor": 5
}
