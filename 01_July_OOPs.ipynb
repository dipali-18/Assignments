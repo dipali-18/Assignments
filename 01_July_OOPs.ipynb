{
 "cells": [
  {
   "cell_type": "markdown",
   "id": "ebf3dab2",
   "metadata": {},
   "source": [
    "# \"01_July_OOPs.ipynb\")"
   ]
  },
  {
   "cell_type": "markdown",
   "id": "276b9baf",
   "metadata": {},
   "source": [
    "Dear sir tried to solve class method but need more practice and need to cover old syllabous. so I will complete my tasks, but temporary I am submitting assignment"
   ]
  },
  {
   "cell_type": "markdown",
   "id": "2f7b6f6c",
   "metadata": {},
   "source": [
    "1. What is the primary goal of Object-Oriented Programming (OOP)?\n",
    "Ans-  Purpose of OOPS is to hold entire data into single object and then pass this data to other methods and object. \n",
    "It is a programming language which is based on class and object. \n",
    "By using OOPs we can structure the program into simple, reusable piece of code.\n",
    "Goals of object-oriented programming language : Adaptability - means the software may run on different generations and \n",
    "    grows over a long lifetime.\n",
    "    To reuse the code in which child classes uses the properties of the base class. \n",
    "    To hold entire data into a single object such that it would be easy to pass this to other methods and objects. \n",
    "Multiprocessing is also in object-oriented programming. Binding of data to avoid data loss. \n",
    "Robustness - it means complex programs should operate correctly.\n"
   ]
  },
  {
   "cell_type": "markdown",
   "id": "8aa247f7",
   "metadata": {},
   "source": [
    "2. What is an object in Python?\n",
    "Ans—every single entity of the class is an object in python. Object is the instance of the class. And class is the blueprint of the object(information of the object). E.g dictionary, str, nums are object of corresponding built-in class. Objects are copies of class.\n"
   ]
  },
  {
   "cell_type": "markdown",
   "id": "500db80b",
   "metadata": {},
   "source": [
    "3. What is a class in Python?\n",
    "Ans—Class is the user defined blueprint or prototype from which objects are created. using class we build data and functionality together. A class is a code template for creating objects Whenever we build new class means we build new object and ultimately create the new instance. E.g car is the class. It holds information about the car that we assign or define in the instance.\n"
   ]
  },
  {
   "cell_type": "markdown",
   "id": "9223053a",
   "metadata": {},
   "source": [
    "4. What are attributes and methods in a class?\n",
    "Ans-Attributes means information about the class. So any variable which is defined/stored in the class/instance is attribute. And any function that is defined/stored in the class/instance is Method. Methods receive an instance of the class, conventionally called self , as the first argument.\n",
    "e.g. car is the class—then (model and price) is the attribute and when we define display(self) is the method. \n"
   ]
  },
  {
   "cell_type": "markdown",
   "id": "c6083145",
   "metadata": {},
   "source": [
    "5. What is the difference between class variables and instance variables in Python?\n",
    "Ans—Class variable is the single entity. Class variables are common to all instances of a class. Single class contains/holds/stores data that is shared among all the instances. But in one class there may be many instances. E.g. Bank is the class and we created deposit and withdraw as an instance. Instance variables are used to store data that is unique to each instance of a class, such as object properties.\n"
   ]
  },
  {
   "cell_type": "markdown",
   "id": "4471bb5e",
   "metadata": {},
   "source": [
    "6. What is the purpose of the self-parameter in Python class methods?\n",
    "Whenever we def any function/instance, at start we write self(or any word instead of self). It means it can access any variables, attributes and methods that are defined in the class. So to access anything within the class we use self. \n"
   ]
  },
  {
   "cell_type": "markdown",
   "id": "49170bf9",
   "metadata": {},
   "source": [
    "7. For a library management system, you have to design the \"Book\" class with OOP\n",
    "principles in mind. The “Book” class will have following attributes:\n",
    "a. title: Represents the title of the book.\n",
    "b. author: Represents the author(s) of the book.\n",
    "c. isbn: Represents the ISBN (International Standard Book Number) of the book.\n",
    "d. publication_year: Represents the year of publication of the book.\n",
    "e. available_copies: Represents the number of copies available for checkout.\n",
    "The class will also include the following methods:\n",
    "a. check_out(self): Decrements the available copies by one if there are copies\n",
    "available for checkout.\n",
    "b. return_book(self): Increments the available copies by one when a book is\n",
    "returned.\n",
    "c. display_book_info(self): Displays the information about the book, including its\n"
   ]
  },
  {
   "cell_type": "code",
   "execution_count": 69,
   "id": "c76924c6",
   "metadata": {},
   "outputs": [],
   "source": [
    "class Book:\n",
    "    def __init__(self,title,author,isbn,publication_year,available_copies):\n",
    "        self.title=title\n",
    "        self.author=author\n",
    "        self.isbn=isbn\n",
    "        self.publication_year=publication_year\n",
    "        self.available_copies=available_copies\n",
    "        \n",
    "    def check_out(self,checkout):\n",
    "        self.checkout=checkout\n",
    "        if self.available_copies>0:\n",
    "            self.available_copies-=self.checkout\n",
    "            print(f\"Book titled {self.title} is checkout successfuly\")\n",
    "        else:\n",
    "            print(f\"Sorry, no copies of {self.title} are available for checkout.\")\n",
    "        \n",
    "    def return_book(self,returnbook):\n",
    "        self.returnbook=returnbook\n",
    "        self.available_copies+=self.returnbook\n",
    "        print(f\"{self.title}{self.returnbook} book returned\")\n",
    "    \n",
    "    def display_books(self):\n",
    "        print(f\"{self.title}, {self.available_copies} books are available\")\n",
    "        print(\"Books in library\")       \n",
    "        "
   ]
  },
  {
   "cell_type": "code",
   "execution_count": 70,
   "id": "5eec71a7",
   "metadata": {},
   "outputs": [
    {
     "name": "stdout",
     "output_type": "stream",
     "text": [
      "<__main__.Book object at 0x0000020E845AB370>\n"
     ]
    }
   ],
   "source": [
    "book1=Book(\"Charlie n chocolate factory\",\"Roald Dahl\",978-37137,1994,100)\n",
    "print(book1)"
   ]
  },
  {
   "cell_type": "code",
   "execution_count": 71,
   "id": "83f88e7d",
   "metadata": {},
   "outputs": [
    {
     "name": "stdout",
     "output_type": "stream",
     "text": [
      "Book titled Charlie n chocolate factory is checkout successfuly\n"
     ]
    }
   ],
   "source": [
    "book1.check_out(5)"
   ]
  },
  {
   "cell_type": "code",
   "execution_count": 72,
   "id": "f51e2bd7",
   "metadata": {},
   "outputs": [
    {
     "name": "stdout",
     "output_type": "stream",
     "text": [
      "Charlie n chocolate factory2 book returned\n"
     ]
    }
   ],
   "source": [
    "book1.return_book(2)"
   ]
  },
  {
   "cell_type": "code",
   "execution_count": 73,
   "id": "3747a00b",
   "metadata": {},
   "outputs": [
    {
     "name": "stdout",
     "output_type": "stream",
     "text": [
      "Charlie n chocolate factory, 97 books are available\n",
      "Books in library\n"
     ]
    }
   ],
   "source": [
    "book1.display_books()"
   ]
  },
  {
   "cell_type": "markdown",
   "id": "fbf17477",
   "metadata": {},
   "source": [
    "8. For a ticket booking system, you have to design the \"Ticket\" class with OOP\n",
    "principles in mind. The “Ticket” class should have the following attributes:\n",
    "a. ticket_id: Represents the unique identifier for the ticket.\n",
    "b. event_name: Represents the name of the event.\n",
    "c. event_date: Represents the date of the event.\n",
    "d. venue: Represents the venue of the event.\n",
    "e. seat_number: Represents the seat number associated with the ticket.\n",
    "f. price: Represents the price of the ticket.\n",
    "g. is_reserved: Represents the reservation status of the ticket.\n",
    "The class also includes the following methods:\n",
    "a. reserve_ticket(self): Marks the ticket as reserved if it is not already reserved.\n",
    "b. cancel_reservation(self): Cancels the reservation of the ticket if it is already\n",
    "reserved.\n",
    "c. display_ticket_info(self): Displays the information about the ticket, including its\n",
    "attributes and reservation status."
   ]
  },
  {
   "cell_type": "code",
   "execution_count": null,
   "id": "6a0da998",
   "metadata": {},
   "outputs": [],
   "source": [
    "##I am unable to how to define method and recall the function."
   ]
  },
  {
   "cell_type": "code",
   "execution_count": 2,
   "id": "6a211024",
   "metadata": {},
   "outputs": [
    {
     "ename": "SyntaxError",
     "evalue": "invalid syntax (3044206307.py, line 20)",
     "output_type": "error",
     "traceback": [
      "\u001b[1;36m  File \u001b[1;32m\"C:\\Users\\Dipali\\AppData\\Local\\Temp\\ipykernel_22060\\3044206307.py\"\u001b[1;36m, line \u001b[1;32m20\u001b[0m\n\u001b[1;33m    if  self.ticket-=is_reserved\u001b[0m\n\u001b[1;37m                   ^\u001b[0m\n\u001b[1;31mSyntaxError\u001b[0m\u001b[1;31m:\u001b[0m invalid syntax\n"
     ]
    }
   ],
   "source": [
    "class Ticket:\n",
    "    \n",
    "    def __init__(self,ticket_id,event_name,event_date,venue,seat,seat_number,price,is_reserved=0):\n",
    "        self.ticket_id=ticket_id\n",
    "        self.event_name=event_name\n",
    "        self.event_date=event_date\n",
    "        self.venue=venue\n",
    "        self.seat_number=seat_number\n",
    "        self.price=price\n",
    "        self.is_reserved=[]\n",
    "        \n",
    "    def reserved_ticket(self,ticket):\n",
    "        if self.ticket>0:\n",
    "            self.ticket+=is_reserved\n",
    "            print(f\"Your ticket is reserved {is_reserved} and seat number is {self.seat_number}\")\n",
    "        else:\n",
    "            print(f\"reservation is full\")\n",
    "            \n",
    "    def cancel_reservation(self,ticket):\n",
    "        if  self.ticket-=is_reserved\n",
    "            print(f\"your reservation of{self.seat_number} is cancelled\")\n",
    "                  \n",
    "    def display_ticket(self):\n",
    "        print(f\"Total number of tickes {self.is_reserved} are booked with {self.seat_number}\")           \n",
    "        "
   ]
  },
  {
   "cell_type": "code",
   "execution_count": 23,
   "id": "e74706be",
   "metadata": {},
   "outputs": [],
   "source": [
    "ticket10=Ticket(1598, \"Live Concert\",18-8-23,\"Shivaji Park,Dadar\",\"A-20\",\"Rs1000\", 15)"
   ]
  },
  {
   "cell_type": "code",
   "execution_count": 28,
   "id": "e989a0d3",
   "metadata": {},
   "outputs": [
    {
     "ename": "TypeError",
     "evalue": "'>' not supported between instances of 'method' and 'int'",
     "output_type": "error",
     "traceback": [
      "\u001b[1;31m---------------------------------------------------------------------------\u001b[0m",
      "\u001b[1;31mTypeError\u001b[0m                                 Traceback (most recent call last)",
      "\u001b[1;32m~\\AppData\\Local\\Temp\\ipykernel_11208\\1852405944.py\u001b[0m in \u001b[0;36m<module>\u001b[1;34m\u001b[0m\n\u001b[1;32m----> 1\u001b[1;33m \u001b[0mticket10\u001b[0m\u001b[1;33m.\u001b[0m\u001b[0mcancel_reservation\u001b[0m\u001b[1;33m(\u001b[0m\u001b[1;36m2\u001b[0m\u001b[1;33m)\u001b[0m\u001b[1;33m\u001b[0m\u001b[1;33m\u001b[0m\u001b[0m\n\u001b[0m",
      "\u001b[1;32m~\\AppData\\Local\\Temp\\ipykernel_11208\\1966662911.py\u001b[0m in \u001b[0;36mcancel_reservation\u001b[1;34m(self, cancel_reservation)\u001b[0m\n\u001b[0;32m     17\u001b[0m             \u001b[0mprint\u001b[0m\u001b[1;33m(\u001b[0m\u001b[1;34mf\"reservation is full\"\u001b[0m\u001b[1;33m)\u001b[0m\u001b[1;33m\u001b[0m\u001b[1;33m\u001b[0m\u001b[0m\n\u001b[0;32m     18\u001b[0m     \u001b[1;32mdef\u001b[0m \u001b[0mcancel_reservation\u001b[0m\u001b[1;33m(\u001b[0m\u001b[0mself\u001b[0m\u001b[1;33m,\u001b[0m\u001b[0mcancel_reservation\u001b[0m\u001b[1;33m)\u001b[0m\u001b[1;33m:\u001b[0m\u001b[1;33m\u001b[0m\u001b[1;33m\u001b[0m\u001b[0m\n\u001b[1;32m---> 19\u001b[1;33m         \u001b[1;32mif\u001b[0m \u001b[0mself\u001b[0m\u001b[1;33m.\u001b[0m\u001b[0mcancel_reservation\u001b[0m\u001b[1;33m>\u001b[0m\u001b[1;36m0\u001b[0m\u001b[1;33m:\u001b[0m\u001b[1;33m\u001b[0m\u001b[1;33m\u001b[0m\u001b[0m\n\u001b[0m\u001b[0;32m     20\u001b[0m             \u001b[0mself\u001b[0m\u001b[1;33m.\u001b[0m\u001b[0mis_reserved\u001b[0m\u001b[1;33m-=\u001b[0m\u001b[0mis_resserved\u001b[0m\u001b[1;33m\u001b[0m\u001b[1;33m\u001b[0m\u001b[0m\n\u001b[0;32m     21\u001b[0m             \u001b[0mprint\u001b[0m\u001b[1;33m(\u001b[0m\u001b[1;34mf\"your reservation of{self.seat_number} is cancelled\"\u001b[0m\u001b[1;33m)\u001b[0m\u001b[1;33m\u001b[0m\u001b[1;33m\u001b[0m\u001b[0m\n",
      "\u001b[1;31mTypeError\u001b[0m: '>' not supported between instances of 'method' and 'int'"
     ]
    }
   ],
   "source": [
    "ticket10.cancel_reservation(2)"
   ]
  },
  {
   "cell_type": "markdown",
   "id": "9b35af6a",
   "metadata": {},
   "source": []
  },
  {
   "cell_type": "markdown",
   "id": "9b8e1fbb",
   "metadata": {},
   "source": [
    "You are creating a shopping cart for an e-commerce website. Using OOP to model\n",
    "the \"ShoppingCart\" functionality the class should contain following attributes and\n",
    "methods:\n",
    "a. items: Represents the list of items in the shopping cart.\n",
    "The class also includes the following methods:\n",
    "a. add_item(self, item): Adds an item to the shopping cart by appending it to the\n",
    "list of items.\n",
    "b. remove_item(self, item): Removes an item from the shopping cart if it exists in\n",
    "the list.\n",
    "c. view_cart(self): Displays the items currently present in the shopping cart.\n",
    "d. clear_cart(self): Clears all items from the shopping cart by reassigning an\n",
    "empty list to the items attribute"
   ]
  },
  {
   "cell_type": "code",
   "execution_count": 4,
   "id": "977e5e72",
   "metadata": {},
   "outputs": [],
   "source": [
    "class Ecart_shop:\n",
    "    def __init_(self,owner):\n",
    "        self.owner=owner\n",
    "        self.items=[]\n",
    "        \n",
    "    def add_item(self,item):\n",
    "        self.items.append(item)\n",
    "        \n",
    "    def remove_item(self,item):\n",
    "        if item in self.items:\n",
    "            self.items.remove(remove)\n",
    "            print(f\"{self.item} from your cart are removed\")\n",
    "            \n",
    "    def view_cart(self):\n",
    "        print(f\"bag your cart with{self.items} and enjoy\")\n",
    "        \n",
    "    def clear_cart(self,item):\n",
    "        for item in self.items:\n",
    "            print(items)\n",
    "        "
   ]
  },
  {
   "cell_type": "code",
   "execution_count": 14,
   "id": "fc8f8038",
   "metadata": {},
   "outputs": [],
   "source": [
    "mycart=Ecart_shop()"
   ]
  },
  {
   "cell_type": "code",
   "execution_count": 17,
   "id": "cac676d8",
   "metadata": {},
   "outputs": [
    {
     "ename": "AttributeError",
     "evalue": "'Ecart_shop' object has no attribute 'items'",
     "output_type": "error",
     "traceback": [
      "\u001b[1;31m---------------------------------------------------------------------------\u001b[0m",
      "\u001b[1;31mAttributeError\u001b[0m                            Traceback (most recent call last)",
      "\u001b[1;32m~\\AppData\\Local\\Temp\\ipykernel_22060\\2217229607.py\u001b[0m in \u001b[0;36m<module>\u001b[1;34m\u001b[0m\n\u001b[1;32m----> 1\u001b[1;33m \u001b[0mmycart\u001b[0m\u001b[1;33m.\u001b[0m\u001b[0madd_item\u001b[0m\u001b[1;33m(\u001b[0m\u001b[1;34m\"headphones\"\u001b[0m\u001b[1;33m)\u001b[0m\u001b[1;33m\u001b[0m\u001b[1;33m\u001b[0m\u001b[0m\n\u001b[0m",
      "\u001b[1;32m~\\AppData\\Local\\Temp\\ipykernel_22060\\1607628470.py\u001b[0m in \u001b[0;36madd_item\u001b[1;34m(self, item)\u001b[0m\n\u001b[0;32m      4\u001b[0m \u001b[1;33m\u001b[0m\u001b[0m\n\u001b[0;32m      5\u001b[0m     \u001b[1;32mdef\u001b[0m \u001b[0madd_item\u001b[0m\u001b[1;33m(\u001b[0m\u001b[0mself\u001b[0m\u001b[1;33m,\u001b[0m\u001b[0mitem\u001b[0m\u001b[1;33m)\u001b[0m\u001b[1;33m:\u001b[0m\u001b[1;33m\u001b[0m\u001b[1;33m\u001b[0m\u001b[0m\n\u001b[1;32m----> 6\u001b[1;33m         \u001b[0mself\u001b[0m\u001b[1;33m.\u001b[0m\u001b[0mitems\u001b[0m\u001b[1;33m.\u001b[0m\u001b[0mappend\u001b[0m\u001b[1;33m(\u001b[0m\u001b[0mitem\u001b[0m\u001b[1;33m)\u001b[0m\u001b[1;33m\u001b[0m\u001b[1;33m\u001b[0m\u001b[0m\n\u001b[0m\u001b[0;32m      7\u001b[0m \u001b[1;33m\u001b[0m\u001b[0m\n\u001b[0;32m      8\u001b[0m     \u001b[1;32mdef\u001b[0m \u001b[0mremove_item\u001b[0m\u001b[1;33m(\u001b[0m\u001b[0mself\u001b[0m\u001b[1;33m,\u001b[0m\u001b[0mitem\u001b[0m\u001b[1;33m)\u001b[0m\u001b[1;33m:\u001b[0m\u001b[1;33m\u001b[0m\u001b[1;33m\u001b[0m\u001b[0m\n",
      "\u001b[1;31mAttributeError\u001b[0m: 'Ecart_shop' object has no attribute 'items'"
     ]
    }
   ],
   "source": [
    "mycart.add_item(\"headphones\")"
   ]
  },
  {
   "cell_type": "markdown",
   "id": "418202c2",
   "metadata": {},
   "source": [
    "10. Imagine a school management system. You have to design the \"Student\" class using\n",
    "OOP concepts.The “Student” class has the following attributes:\n",
    "a. name: Represents the name of the student.\n",
    "b. age: Represents the age of the student.\n",
    "c. grade: Represents the grade or class of the student.\n",
    "d. student_id: Represents the unique identifier for the student.\n",
    "e. attendance: Represents the attendance record of the student.\n",
    "The class should also include the following methods:\n",
    "a. update_attendance(self, date, status): Updates the attendance record of the\n",
    "student for a given date with the provided status (e.g., present or absent).\n",
    "b. get_attendance(self): Returns the attendance record of the student.\n",
    "c. get_average_attendance(self): Calculates and returns the average\n",
    "attendance percentage of the student based on their attendance record.\n"
   ]
  }
 ],
 "metadata": {
  "kernelspec": {
   "display_name": "Python 3 (ipykernel)",
   "language": "python",
   "name": "python3"
  },
  "language_info": {
   "codemirror_mode": {
    "name": "ipython",
    "version": 3
   },
   "file_extension": ".py",
   "mimetype": "text/x-python",
   "name": "python",
   "nbconvert_exporter": "python",
   "pygments_lexer": "ipython3",
   "version": "3.9.13"
  }
 },
 "nbformat": 4,
 "nbformat_minor": 5
}
