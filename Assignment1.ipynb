{
 "cells": [
  {
   "cell_type": "markdown",
   "id": "a222223b",
   "metadata": {},
   "source": [
    "# Assignment 1"
   ]
  },
  {
   "cell_type": "markdown",
   "id": "5115d747",
   "metadata": {},
   "source": [
    "1. In the below elements which of them are values or an expression? eg:- values can be integer or string and expressions will be mathematical operators.\n",
    "*   -- mathematical operator\n",
    "'hello'  -- string\n",
    "-87.8 --float\n",
    "-   --math operator\n",
    "/  --math operator\n",
    "+\tmath operator\n",
    "6  -- integer\n",
    "\n",
    "2. What is the difference between string and variable?\n",
    "Ans-- String is a data type in python, which is character. Anything that is enclosed in  “..” (colons) is called as string  but variable means we assign a particular value to it. Or it can be the value before and after equal sign. (If before equal sign means dependent variable and after equal sign means independent variable). Variable can be string also.\n",
    "\n",
    "3. Describe three different data types.\n",
    "Ans--Int—Any value from 0 to infinity without decimal is int.\n",
    "String—Any value with words is string\n",
    "Float—no with decimal point is Float\n",
    "\n",
    "4. What is an expression made up of? What do all expressions do?\n",
    "\n",
    "5. This assignment statements, like spam = 10. What is the difference between an expression and a statement?\n",
    "In span=10 this is the expression and it will assign a value to spam. \n",
    "Expression is the combination of operands and operators. We get result after getting interpreted by python. \n",
    "Statements are logical instructions that python can understand.  Using that statement python take action/actions. conditional statements, loop statements. (If-else, for, while) In python we have multiline statement, so we can use continuous character, parenthesis(), brackets[], braces{}, string, or colon(;) to write multiline statements.\n",
    "\n",
    "6. After running the following code, what does the variable bacon contain?\n",
    "bacon = 22  --Ans it is int variable and value is 22\n",
    "bacon + 1  --- bacon value doesn’t change it is 22\n",
    "\n",
    "7. What should the values of the following two terms be?\n",
    "'spam' + 'spamspam' = spamspamspam\n",
    "'spam' * 3 = spamspamspam\n",
    "\n",
    "8. Why is eggs a valid variable name while 100 is invalid?\n",
    "And--Valiables can start with alphabets, _, capital letters but not with numbers\n",
    "\n",
    "9. What three functions can be used to get the integer, floating-point number, or string version of a value?\n",
    "-- we can get int,float,string through list, tuple and set. \n",
    "\n",
    "10. Why does this expression cause an error? How can you fix it?\n",
    "'I have eaten ' + 99 + ' burritos.'\n",
    "ANS--'I have eaten  + 99 +  burritos.'—because in python only str to str and number  but id we enclose it in colons it will not add\n",
    "\n",
    "\n",
    "##THIS IS FOR REFERENCE—NO NEED TO OPEN THIS LINK\n",
    "https://makemeanalyst.com/python-programming/operators-and-expressions/ \n",
    "\n",
    "\n",
    "\n"
   ]
  }
 ],
 "metadata": {
  "kernelspec": {
   "display_name": "Python 3 (ipykernel)",
   "language": "python",
   "name": "python3"
  },
  "language_info": {
   "codemirror_mode": {
    "name": "ipython",
    "version": 3
   },
   "file_extension": ".py",
   "mimetype": "text/x-python",
   "name": "python",
   "nbconvert_exporter": "python",
   "pygments_lexer": "ipython3",
   "version": "3.9.13"
  }
 },
 "nbformat": 4,
 "nbformat_minor": 5
}
