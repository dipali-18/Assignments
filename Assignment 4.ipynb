{
 "cells": [
  {
   "cell_type": "markdown",
   "id": "c9759c78",
   "metadata": {},
   "source": [
    "1. What exactly is []?\n",
    "ans-- empty list"
   ]
  },
  {
   "cell_type": "markdown",
   "id": "9dfd38cf",
   "metadata": {},
   "source": [
    "2. In a list of values stored in a variable called spam, how would you assign the value 'hello' as the third value? \n",
    "(Assume [2, 4, 6, 8, 10] are in spam.) \n",
    "Let's pretend the spam includes the list ['a', 'b', 'c', 'd'] for the next three queries.\n",
    "3. What is the value of spam[int(int('3' * 2) / 11)]?\n",
    "4. What is the value of spam[-1]?\n",
    "5. What is the value of spam[:2]?\n"
   ]
  },
  {
   "cell_type": "code",
   "execution_count": 2,
   "id": "a038c302",
   "metadata": {},
   "outputs": [
    {
     "name": "stdout",
     "output_type": "stream",
     "text": [
      "[2, 4, 6, 8, 10]\n",
      "\n",
      "[2, 4, 6, 'hello', 10]\n"
     ]
    }
   ],
   "source": [
    "spam = [2, 4, 6, 8, 10]\n",
    "print(spam)\n",
    "print()\n",
    "spam[3] = 'hello'\n",
    "print(spam)"
   ]
  },
  {
   "cell_type": "code",
   "execution_count": 3,
   "id": "14747451",
   "metadata": {},
   "outputs": [
    {
     "data": {
      "text/plain": [
       "'hello'"
      ]
     },
     "execution_count": 3,
     "metadata": {},
     "output_type": "execute_result"
    }
   ],
   "source": [
    "spam[int(int('3' * 2) / 11)]"
   ]
  },
  {
   "cell_type": "code",
   "execution_count": 4,
   "id": "f24239f3",
   "metadata": {},
   "outputs": [
    {
     "data": {
      "text/plain": [
       "10"
      ]
     },
     "execution_count": 4,
     "metadata": {},
     "output_type": "execute_result"
    }
   ],
   "source": [
    "spam[-1]"
   ]
  },
  {
   "cell_type": "code",
   "execution_count": 5,
   "id": "73c935bf",
   "metadata": {},
   "outputs": [
    {
     "data": {
      "text/plain": [
       "[2, 4]"
      ]
     },
     "execution_count": 5,
     "metadata": {},
     "output_type": "execute_result"
    }
   ],
   "source": [
    "spam[:2]"
   ]
  },
  {
   "cell_type": "code",
   "execution_count": 7,
   "id": "1dd5b03f",
   "metadata": {},
   "outputs": [],
   "source": [
    "spam1 =  ['a', 'b', 'c', 'd'] "
   ]
  },
  {
   "cell_type": "code",
   "execution_count": 13,
   "id": "94698f34",
   "metadata": {},
   "outputs": [
    {
     "data": {
      "text/plain": [
       "'d'"
      ]
     },
     "execution_count": 13,
     "metadata": {},
     "output_type": "execute_result"
    }
   ],
   "source": [
    "spam1[int(int('3' * 2) / 11)]"
   ]
  },
  {
   "cell_type": "code",
   "execution_count": 14,
   "id": "0ec5ff9b",
   "metadata": {},
   "outputs": [
    {
     "data": {
      "text/plain": [
       "'d'"
      ]
     },
     "execution_count": 14,
     "metadata": {},
     "output_type": "execute_result"
    }
   ],
   "source": [
    "spam1[-1]"
   ]
  },
  {
   "cell_type": "code",
   "execution_count": 15,
   "id": "6b4d4986",
   "metadata": {},
   "outputs": [
    {
     "data": {
      "text/plain": [
       "['a', 'b']"
      ]
     },
     "execution_count": 15,
     "metadata": {},
     "output_type": "execute_result"
    }
   ],
   "source": [
    "spam1[:2]"
   ]
  },
  {
   "cell_type": "markdown",
   "id": "6534a14a",
   "metadata": {},
   "source": [
    "Let's pretend bacon has the list [3.14, 'cat,' 11, 'cat,' True] for the next three questions.\n",
    "6. What is the value of bacon.index('cat')?\n",
    "7. How does bacon.append(99) change the look of the list value in bacon?\n",
    "8. How does bacon.remove('cat') change the look of the list in bacon?"
   ]
  },
  {
   "cell_type": "markdown",
   "id": "99444064",
   "metadata": {},
   "source": [
    "10. What are the list concatenation and list replication operators?"
   ]
  },
  {
   "cell_type": "code",
   "execution_count": 34,
   "id": "3e3a3e1c",
   "metadata": {},
   "outputs": [
    {
     "name": "stdout",
     "output_type": "stream",
     "text": [
      "[1, 2, 3, 4, 5, 6]\n"
     ]
    }
   ],
   "source": [
    "#list concatenation operators== '+'\n",
    "list1 = [1, 2, 3]\n",
    "list2 = [4, 5, 6]\n",
    "concatenated_list = list1 + list2\n",
    "# concatenated_list will be [1, 2, 3, 4, 5, 6]\n",
    "print(concatenated_list)"
   ]
  },
  {
   "cell_type": "code",
   "execution_count": 35,
   "id": "ebfb2bb7",
   "metadata": {},
   "outputs": [
    {
     "name": "stdout",
     "output_type": "stream",
     "text": [
      "[7, 8, 7, 8, 7, 8]\n"
     ]
    }
   ],
   "source": [
    "#list replication operators== '*'\n",
    "original_list = [7, 8]\n",
    "replicated_list = original_list * 3\n",
    "# replicated_list will be [7, 8, 7, 8, 7, 8]\n",
    "print(replicated_list)"
   ]
  },
  {
   "cell_type": "markdown",
   "id": "3470bcc4",
   "metadata": {},
   "source": [
    "11. What is difference between the list methods append() and insert()?\n",
    "ans-- IN apend we add object or element at the end of the list but in inser we add object by mentioning the index. e.g."
   ]
  },
  {
   "cell_type": "code",
   "execution_count": 21,
   "id": "b14d15ef",
   "metadata": {},
   "outputs": [
    {
     "name": "stdout",
     "output_type": "stream",
     "text": [
      "['f', 'j', 'hfgdshj', 34, 78, 67]\n",
      "\n",
      "['f', 'j', 'hfgdshj', 34, 78, 67, 'world']\n",
      "\n",
      "['f', 'j', 'hfgdshj', 34, 'hello', 78, 67, 'world']\n"
     ]
    }
   ],
   "source": [
    "list1 = ['f', 'j', 'hfgdshj', 34, 78, 67]\n",
    "print(list1)\n",
    "print()\n",
    "list1.append('world')\n",
    "print(list1)\n",
    "print()\n",
    "list1.insert(4, 'hello')\n",
    "print(list1)"
   ]
  },
  {
   "cell_type": "markdown",
   "id": "980a8b2f",
   "metadata": {},
   "source": [
    "11. What are the two methods for removing items from a list?\n",
    "ans-- remove and pop-- remove object nd in pop we give index number"
   ]
  },
  {
   "cell_type": "code",
   "execution_count": 23,
   "id": "d4916c41",
   "metadata": {},
   "outputs": [
    {
     "name": "stdout",
     "output_type": "stream",
     "text": [
      "['f', 'j', 'hfgdshj', 34, 'hello', 78, 67, 'world']\n",
      "\n",
      "['f', 'j', 'hfgdshj', 'hello', 78, 67, 'world']\n",
      "\n",
      "['j', 'hfgdshj', 'hello', 78, 67, 'world']\n"
     ]
    }
   ],
   "source": [
    "list2 = ['f', 'j', 'hfgdshj', 34, 'hello', 78, 67, 'world']\n",
    "print(list2)\n",
    "print()\n",
    "list2.remove(34)\n",
    "print(list2)\n",
    "print()\n",
    "list2.pop(0)\n",
    "print(list2)"
   ]
  },
  {
   "cell_type": "markdown",
   "id": "2ad827cf",
   "metadata": {},
   "source": [
    "12. Describe how list values and string values are identical.\n",
    "ans-- Both strings and lists have lengths: a string's length is the number of characters in the string; a list's length is the number of items in the list. Each character in a string as well as each item in a list has a position, also called an index."
   ]
  },
  {
   "cell_type": "markdown",
   "id": "b00818e8",
   "metadata": {},
   "source": [
    "13. What's the difference between tuples and lists?\n",
    "ans-- tuples are immutable(can't change item) lists are mutable. tuple defined in round brackets(), list in square brackets[]"
   ]
  },
  {
   "cell_type": "markdown",
   "id": "3c8fac32",
   "metadata": {},
   "source": [
    "14. How do you type a tuple value that only contains the integer 42?"
   ]
  },
  {
   "cell_type": "code",
   "execution_count": 26,
   "id": "c0745821",
   "metadata": {},
   "outputs": [
    {
     "name": "stdout",
     "output_type": "stream",
     "text": [
      "42\n",
      "<class 'int'>\n"
     ]
    }
   ],
   "source": [
    "tuple1 = (42)\n",
    "print(tuple1)\n",
    "print(type(tuple1))"
   ]
  },
  {
   "cell_type": "markdown",
   "id": "c4716cfb",
   "metadata": {},
   "source": [
    "15. How do you get a list value's tuple form? How do you get a tuple value's list form?"
   ]
  },
  {
   "cell_type": "code",
   "execution_count": 28,
   "id": "ffa1a92c",
   "metadata": {},
   "outputs": [
    {
     "name": "stdout",
     "output_type": "stream",
     "text": [
      "[5, 'hello', 'world', 10, 55]\n",
      "(5, 'hello', 'world', 10, 55)\n"
     ]
    }
   ],
   "source": [
    "list3 = [5, 'hello', 'world', 10, 55]\n",
    "tuple2 = tuple(list3)\n",
    "print(list3)\n",
    "print(tuple2)"
   ]
  },
  {
   "cell_type": "code",
   "execution_count": 30,
   "id": "d902fca7",
   "metadata": {},
   "outputs": [
    {
     "name": "stdout",
     "output_type": "stream",
     "text": [
      "(5, 'hello', 'world', 10, 55)\n",
      "[5, 'hello', 'world', 10, 55]\n"
     ]
    }
   ],
   "source": [
    "tuple3 = (5, 'hello', 'world', 10, 55)\n",
    "list4 = list(tuple3)\n",
    "\n",
    "print(tuple3)\n",
    "print(list4)"
   ]
  },
  {
   "cell_type": "markdown",
   "id": "aaa37c66",
   "metadata": {},
   "source": [
    "16. Variables that \"contain\" list values are not necessarily lists themselves. Instead, what do they contain?\n",
    "ans-- in python variable means any object after equal to sign. we assign a value to it. but when we assign a list to the variable then you're actually storing a reference to the memory location where the list data is stored, rather than the data itself. This is why variables that appear to \"contain\" list values are actually references to those values."
   ]
  },
  {
   "cell_type": "code",
   "execution_count": 31,
   "id": "6ffffc5e",
   "metadata": {},
   "outputs": [],
   "source": [
    "my_list = [1, 2, 3]\n",
    "another_list = my_list"
   ]
  },
  {
   "cell_type": "markdown",
   "id": "1d40a443",
   "metadata": {},
   "source": [
    "17. How do you distinguish between copy.copy() and copy.deepcopy()?"
   ]
  },
  {
   "cell_type": "code",
   "execution_count": 32,
   "id": "25ba0fdf",
   "metadata": {},
   "outputs": [
    {
     "name": "stdout",
     "output_type": "stream",
     "text": [
      "Original List: [[99, 2, 3], [4, 5, 6]]\n",
      "Shallow Copy: [[99, 2, 3], [4, 5, 6]]\n",
      "Deep Copy: [[1, 2, 3], [4, 5, 6]]\n"
     ]
    }
   ],
   "source": [
    "import copy\n",
    "\n",
    "original_list = [[1, 2, 3], [4, 5, 6]]\n",
    "shallow_copy = copy.copy(original_list)\n",
    "deep_copy = copy.deepcopy(original_list)\n",
    "\n",
    "original_list[0][0] = 99\n",
    "\n",
    "print(\"Original List:\", original_list)\n",
    "print(\"Shallow Copy:\", shallow_copy)  # Shares references, so it will be affected\n",
    "print(\"Deep Copy:\", deep_copy)        # Independent copy, won't be affected"
   ]
  },
  {
   "cell_type": "markdown",
   "id": "d807db42",
   "metadata": {},
   "source": [
    "here in shallow copy when we copy list and create new list it copies all elements. suppose we append or add any object in new list then original list will change.\n",
    "\n",
    "in deep copy if we do above process then original list will remain same. because new created list is stored in new memory location."
   ]
  }
 ],
 "metadata": {
  "kernelspec": {
   "display_name": "Python 3 (ipykernel)",
   "language": "python",
   "name": "python3"
  },
  "language_info": {
   "codemirror_mode": {
    "name": "ipython",
    "version": 3
   },
   "file_extension": ".py",
   "mimetype": "text/x-python",
   "name": "python",
   "nbconvert_exporter": "python",
   "pygments_lexer": "ipython3",
   "version": "3.9.13"
  }
 },
 "nbformat": 4,
 "nbformat_minor": 5
}
